{
 "cells": [
  {
   "cell_type": "code",
   "execution_count": 1,
   "metadata": {
    "collapsed": false
   },
   "outputs": [],
   "source": [
    "import urllib2\n",
    "import xml.etree.ElementTree as ET\n",
    "file = urllib2.urlopen('http://opendata.cwb.gov.tw/opendata/MFC/F-D0047-005.xml')\n",
    "tree = ET.parse(file)\n",
    "root = tree.getroot()\n",
    "ns = {'role': 'urn:cwb:gov:tw:cwbcommon:0.1'}\n",
    "file.close()"
   ]
  },
  {
   "cell_type": "code",
   "execution_count": 209,
   "metadata": {
    "collapsed": false
   },
   "outputs": [
    {
     "name": "stdout",
     "output_type": "stream",
     "text": [
      "<Element '{urn:cwb:gov:tw:cwbcommon:0.1}cwbopendata' at 0x4b7cb70>\n"
     ]
    }
   ],
   "source": [
    "print root"
   ]
  },
  {
   "cell_type": "code",
   "execution_count": 7,
   "metadata": {
    "collapsed": false
   },
   "outputs": [
    {
     "name": "stdout",
     "output_type": "stream",
     "text": [
      "<xml.etree.ElementTree.ElementTree object at 0x0000000004C89C50>\n"
     ]
    }
   ],
   "source": [
    "print tree"
   ]
  },
  {
   "cell_type": "code",
   "execution_count": 199,
   "metadata": {
    "collapsed": false
   },
   "outputs": [
    {
     "name": "stdout",
     "output_type": "stream",
     "text": [
      "{urn:cwb:gov:tw:cwbcommon:0.1}identifier\n",
      "{urn:cwb:gov:tw:cwbcommon:0.1}sender\n",
      "{urn:cwb:gov:tw:cwbcommon:0.1}sent\n",
      "{urn:cwb:gov:tw:cwbcommon:0.1}status\n",
      "{urn:cwb:gov:tw:cwbcommon:0.1}scope\n",
      "{urn:cwb:gov:tw:cwbcommon:0.1}msgType\n",
      "{urn:cwb:gov:tw:cwbcommon:0.1}dataid\n",
      "{urn:cwb:gov:tw:cwbcommon:0.1}source\n",
      "{urn:cwb:gov:tw:cwbcommon:0.1}dataset\n"
     ]
    }
   ],
   "source": [
    "for child in root:\n",
    "    print child.tag"
   ]
  },
  {
   "cell_type": "code",
   "execution_count": 72,
   "metadata": {
    "collapsed": false
   },
   "outputs": [
    {
     "name": "stdout",
     "output_type": "stream",
     "text": [
      "{urn:cwb:gov:tw:cwbcommon:0.1}datasetInfo\n",
      "{urn:cwb:gov:tw:cwbcommon:0.1}contents\n",
      "{urn:cwb:gov:tw:cwbcommon:0.1}locations\n"
     ]
    }
   ],
   "source": [
    "for element in root.find('role:dataset', ns):\n",
    "    print element.tag\n",
    "    for location in element.findall('locations', ns):\n",
    "        print location.tag"
   ]
  },
  {
   "cell_type": "code",
   "execution_count": 2,
   "metadata": {
    "collapsed": false
   },
   "outputs": [],
   "source": [
    "def getWeather(place = u'桃園區', attr = u'T'):\n",
    "    dataset = root.find('role:dataset', ns)\n",
    "    locations = dataset.find('role:locations', ns)\n",
    "    for location in locations.findall('role:location', ns):\n",
    "        name = location.find('role:locationName', ns)\n",
    "        if(name.text.strip() == place):\n",
    "            weatherelements = location.findall('role:weatherElement', ns)\n",
    "            for element in weatherelements:\n",
    "                if(element.find('role:elementName', ns).text.strip() == attr):\n",
    "                    return element.findall('role:time', ns)"
   ]
  },
  {
   "cell_type": "code",
   "execution_count": 3,
   "metadata": {
    "collapsed": false
   },
   "outputs": [
    {
     "name": "stdout",
     "output_type": "stream",
     "text": [
      "2017-01-11T18:00:00+08:00\n",
      "19\n",
      "C\n",
      "2017-01-11T21:00:00+08:00\n",
      "19\n",
      "C\n",
      "2017-01-12T00:00:00+08:00\n",
      "18\n",
      "C\n",
      "2017-01-12T03:00:00+08:00\n",
      "18\n",
      "C\n",
      "2017-01-12T06:00:00+08:00\n",
      "17\n",
      "C\n",
      "2017-01-12T09:00:00+08:00\n",
      "19\n",
      "C\n",
      "2017-01-12T12:00:00+08:00\n",
      "22\n",
      "C\n",
      "2017-01-12T15:00:00+08:00\n",
      "21\n",
      "C\n",
      "2017-01-12T18:00:00+08:00\n",
      "19\n",
      "C\n",
      "2017-01-12T21:00:00+08:00\n",
      "19\n",
      "C\n",
      "2017-01-13T00:00:00+08:00\n",
      "18\n",
      "C\n",
      "2017-01-13T03:00:00+08:00\n",
      "18\n",
      "C\n",
      "2017-01-13T06:00:00+08:00\n",
      "17\n",
      "C\n",
      "2017-01-13T09:00:00+08:00\n",
      "17\n",
      "C\n",
      "2017-01-13T12:00:00+08:00\n",
      "17\n",
      "C\n",
      "2017-01-13T15:00:00+08:00\n",
      "16\n",
      "C\n",
      "2017-01-13T18:00:00+08:00\n",
      "15\n",
      "C\n",
      "2017-01-13T21:00:00+08:00\n",
      "14\n",
      "C\n",
      "2017-01-14T00:00:00+08:00\n",
      "14\n",
      "C\n",
      "2017-01-14T03:00:00+08:00\n",
      "14\n",
      "C\n",
      "2017-01-14T06:00:00+08:00\n",
      "14\n",
      "C\n",
      "2017-01-14T09:00:00+08:00\n",
      "14\n",
      "C\n",
      "2017-01-14T12:00:00+08:00\n",
      "16\n",
      "C\n",
      "2017-01-14T15:00:00+08:00\n",
      "15\n",
      "C\n"
     ]
    }
   ],
   "source": [
    "for element in getWeather():\n",
    "    time = element.find('role:dataTime', ns)\n",
    "    print time.text.strip()\n",
    "    elementvalue = element.find('role:elementValue', ns)\n",
    "    for value in elementvalue:\n",
    "        print value.text.strip()"
   ]
  },
  {
   "cell_type": "code",
   "execution_count": 5,
   "metadata": {
    "collapsed": false
   },
   "outputs": [],
   "source": [
    "def getSent():\n",
    "    sent = root.find('role:sent', ns)\n",
    "    return sent.text.strip()"
   ]
  },
  {
   "cell_type": "code",
   "execution_count": 6,
   "metadata": {
    "collapsed": false
   },
   "outputs": [
    {
     "data": {
      "text/plain": [
       "'2017-01-11T17:40:00+08:00'"
      ]
     },
     "execution_count": 6,
     "metadata": {},
     "output_type": "execute_result"
    }
   ],
   "source": [
    "getSent()"
   ]
  }
 ],
 "metadata": {
  "kernelspec": {
   "display_name": "Python 2",
   "language": "python",
   "name": "python2"
  },
  "language_info": {
   "codemirror_mode": {
    "name": "ipython",
    "version": 2
   },
   "file_extension": ".py",
   "mimetype": "text/x-python",
   "name": "python",
   "nbconvert_exporter": "python",
   "pygments_lexer": "ipython2",
   "version": "2.7.12"
  }
 },
 "nbformat": 4,
 "nbformat_minor": 2
}
